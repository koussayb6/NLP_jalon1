{
  "cells": [
    {
      "cell_type": "code",
      "source": [
        "pip install contractions"
      ],
      "metadata": {
        "colab": {
          "base_uri": "https://localhost:8080/"
        },
        "id": "ihG1x6hauhqA",
        "outputId": "723356ca-fc1a-4627-9de7-50f6cdee58dc"
      },
      "id": "ihG1x6hauhqA",
      "execution_count": 7,
      "outputs": [
        {
          "output_type": "stream",
          "name": "stdout",
          "text": [
            "Looking in indexes: https://pypi.org/simple, https://us-python.pkg.dev/colab-wheels/public/simple/\n",
            "Collecting contractions\n",
            "  Downloading contractions-0.1.72-py2.py3-none-any.whl (8.3 kB)\n",
            "Collecting textsearch>=0.0.21\n",
            "  Downloading textsearch-0.0.24-py2.py3-none-any.whl (7.6 kB)\n",
            "Collecting pyahocorasick\n",
            "  Downloading pyahocorasick-1.4.4-cp37-cp37m-manylinux_2_17_x86_64.manylinux2014_x86_64.whl (106 kB)\n",
            "\u001b[K     |████████████████████████████████| 106 kB 7.3 MB/s \n",
            "\u001b[?25hCollecting anyascii\n",
            "  Downloading anyascii-0.3.1-py3-none-any.whl (287 kB)\n",
            "\u001b[K     |████████████████████████████████| 287 kB 59.3 MB/s \n",
            "\u001b[?25hInstalling collected packages: pyahocorasick, anyascii, textsearch, contractions\n",
            "Successfully installed anyascii-0.3.1 contractions-0.1.72 pyahocorasick-1.4.4 textsearch-0.0.24\n"
          ]
        }
      ]
    },
    {
      "cell_type": "code",
      "execution_count": 8,
      "id": "b0305f78",
      "metadata": {
        "id": "b0305f78"
      },
      "outputs": [],
      "source": [
        "import pandas as pd\n",
        "import numpy as np\n",
        "import os\n",
        "import matplotlib.pyplot as plt\n",
        "import seaborn as sns\n",
        "\n",
        "from sklearn.feature_extraction.text import CountVectorizer\n",
        "from sklearn.feature_extraction.text import TfidfVectorizer\n",
        "from sklearn.decomposition import NMF\n",
        "\n",
        "from wordcloud import WordCloud\n",
        "\n",
        "import nltk\n",
        "from nltk.tokenize import RegexpTokenizer\n",
        "from nltk.stem import WordNetLemmatizer\n",
        "from nltk.corpus import stopwords\n",
        "import contractions"
      ]
    },
    {
      "cell_type": "markdown",
      "id": "02d143d9",
      "metadata": {
        "id": "02d143d9"
      },
      "source": [
        "# 1. Exploration du jeu de données"
      ]
    },
    {
      "cell_type": "code",
      "execution_count": 9,
      "id": "3bd73fcc",
      "metadata": {
        "id": "3bd73fcc"
      },
      "outputs": [],
      "source": [
        "DATASET_FILE = \"./dataset.csv\""
      ]
    },
    {
      "cell_type": "code",
      "execution_count": 11,
      "id": "d9c1030d",
      "metadata": {
        "colab": {
          "base_uri": "https://localhost:8080/",
          "height": 424
        },
        "id": "d9c1030d",
        "outputId": "7edd648b-dd63-4bd6-8201-1d7de43224f1"
      },
      "outputs": [
        {
          "output_type": "execute_result",
          "data": {
            "text/plain": [
              "                                                    text  stars\n",
              "0      I've only had food from here once and it wasn'...      1\n",
              "1      I will never return here again.  Ever.  I was ...      1\n",
              "2      I wish my experience was great as others. I di...      1\n",
              "3      Are the rosemary grapefruit scones supposed to...      1\n",
              "4      Our takeout order was half wrong. Food was mis...      1\n",
              "...                                                  ...    ...\n",
              "24995  I was a loyal fan of Aroy before the ownership...      5\n",
              "24996  Stopped here for a bite while wandering around...      5\n",
              "24997  A quiet place with excellent food, great music...      5\n",
              "24998  Super delicious food. Awesome vibe. I suffered...      5\n",
              "24999  I have a lot of dietary restrictions and this ...      5\n",
              "\n",
              "[25000 rows x 2 columns]"
            ],
            "text/html": [
              "\n",
              "  <div id=\"df-4d4f3a26-d00b-420f-a7a3-2c2c3f27a2cc\">\n",
              "    <div class=\"colab-df-container\">\n",
              "      <div>\n",
              "<style scoped>\n",
              "    .dataframe tbody tr th:only-of-type {\n",
              "        vertical-align: middle;\n",
              "    }\n",
              "\n",
              "    .dataframe tbody tr th {\n",
              "        vertical-align: top;\n",
              "    }\n",
              "\n",
              "    .dataframe thead th {\n",
              "        text-align: right;\n",
              "    }\n",
              "</style>\n",
              "<table border=\"1\" class=\"dataframe\">\n",
              "  <thead>\n",
              "    <tr style=\"text-align: right;\">\n",
              "      <th></th>\n",
              "      <th>text</th>\n",
              "      <th>stars</th>\n",
              "    </tr>\n",
              "  </thead>\n",
              "  <tbody>\n",
              "    <tr>\n",
              "      <th>0</th>\n",
              "      <td>I've only had food from here once and it wasn'...</td>\n",
              "      <td>1</td>\n",
              "    </tr>\n",
              "    <tr>\n",
              "      <th>1</th>\n",
              "      <td>I will never return here again.  Ever.  I was ...</td>\n",
              "      <td>1</td>\n",
              "    </tr>\n",
              "    <tr>\n",
              "      <th>2</th>\n",
              "      <td>I wish my experience was great as others. I di...</td>\n",
              "      <td>1</td>\n",
              "    </tr>\n",
              "    <tr>\n",
              "      <th>3</th>\n",
              "      <td>Are the rosemary grapefruit scones supposed to...</td>\n",
              "      <td>1</td>\n",
              "    </tr>\n",
              "    <tr>\n",
              "      <th>4</th>\n",
              "      <td>Our takeout order was half wrong. Food was mis...</td>\n",
              "      <td>1</td>\n",
              "    </tr>\n",
              "    <tr>\n",
              "      <th>...</th>\n",
              "      <td>...</td>\n",
              "      <td>...</td>\n",
              "    </tr>\n",
              "    <tr>\n",
              "      <th>24995</th>\n",
              "      <td>I was a loyal fan of Aroy before the ownership...</td>\n",
              "      <td>5</td>\n",
              "    </tr>\n",
              "    <tr>\n",
              "      <th>24996</th>\n",
              "      <td>Stopped here for a bite while wandering around...</td>\n",
              "      <td>5</td>\n",
              "    </tr>\n",
              "    <tr>\n",
              "      <th>24997</th>\n",
              "      <td>A quiet place with excellent food, great music...</td>\n",
              "      <td>5</td>\n",
              "    </tr>\n",
              "    <tr>\n",
              "      <th>24998</th>\n",
              "      <td>Super delicious food. Awesome vibe. I suffered...</td>\n",
              "      <td>5</td>\n",
              "    </tr>\n",
              "    <tr>\n",
              "      <th>24999</th>\n",
              "      <td>I have a lot of dietary restrictions and this ...</td>\n",
              "      <td>5</td>\n",
              "    </tr>\n",
              "  </tbody>\n",
              "</table>\n",
              "<p>25000 rows × 2 columns</p>\n",
              "</div>\n",
              "      <button class=\"colab-df-convert\" onclick=\"convertToInteractive('df-4d4f3a26-d00b-420f-a7a3-2c2c3f27a2cc')\"\n",
              "              title=\"Convert this dataframe to an interactive table.\"\n",
              "              style=\"display:none;\">\n",
              "        \n",
              "  <svg xmlns=\"http://www.w3.org/2000/svg\" height=\"24px\"viewBox=\"0 0 24 24\"\n",
              "       width=\"24px\">\n",
              "    <path d=\"M0 0h24v24H0V0z\" fill=\"none\"/>\n",
              "    <path d=\"M18.56 5.44l.94 2.06.94-2.06 2.06-.94-2.06-.94-.94-2.06-.94 2.06-2.06.94zm-11 1L8.5 8.5l.94-2.06 2.06-.94-2.06-.94L8.5 2.5l-.94 2.06-2.06.94zm10 10l.94 2.06.94-2.06 2.06-.94-2.06-.94-.94-2.06-.94 2.06-2.06.94z\"/><path d=\"M17.41 7.96l-1.37-1.37c-.4-.4-.92-.59-1.43-.59-.52 0-1.04.2-1.43.59L10.3 9.45l-7.72 7.72c-.78.78-.78 2.05 0 2.83L4 21.41c.39.39.9.59 1.41.59.51 0 1.02-.2 1.41-.59l7.78-7.78 2.81-2.81c.8-.78.8-2.07 0-2.86zM5.41 20L4 18.59l7.72-7.72 1.47 1.35L5.41 20z\"/>\n",
              "  </svg>\n",
              "      </button>\n",
              "      \n",
              "  <style>\n",
              "    .colab-df-container {\n",
              "      display:flex;\n",
              "      flex-wrap:wrap;\n",
              "      gap: 12px;\n",
              "    }\n",
              "\n",
              "    .colab-df-convert {\n",
              "      background-color: #E8F0FE;\n",
              "      border: none;\n",
              "      border-radius: 50%;\n",
              "      cursor: pointer;\n",
              "      display: none;\n",
              "      fill: #1967D2;\n",
              "      height: 32px;\n",
              "      padding: 0 0 0 0;\n",
              "      width: 32px;\n",
              "    }\n",
              "\n",
              "    .colab-df-convert:hover {\n",
              "      background-color: #E2EBFA;\n",
              "      box-shadow: 0px 1px 2px rgba(60, 64, 67, 0.3), 0px 1px 3px 1px rgba(60, 64, 67, 0.15);\n",
              "      fill: #174EA6;\n",
              "    }\n",
              "\n",
              "    [theme=dark] .colab-df-convert {\n",
              "      background-color: #3B4455;\n",
              "      fill: #D2E3FC;\n",
              "    }\n",
              "\n",
              "    [theme=dark] .colab-df-convert:hover {\n",
              "      background-color: #434B5C;\n",
              "      box-shadow: 0px 1px 3px 1px rgba(0, 0, 0, 0.15);\n",
              "      filter: drop-shadow(0px 1px 2px rgba(0, 0, 0, 0.3));\n",
              "      fill: #FFFFFF;\n",
              "    }\n",
              "  </style>\n",
              "\n",
              "      <script>\n",
              "        const buttonEl =\n",
              "          document.querySelector('#df-4d4f3a26-d00b-420f-a7a3-2c2c3f27a2cc button.colab-df-convert');\n",
              "        buttonEl.style.display =\n",
              "          google.colab.kernel.accessAllowed ? 'block' : 'none';\n",
              "\n",
              "        async function convertToInteractive(key) {\n",
              "          const element = document.querySelector('#df-4d4f3a26-d00b-420f-a7a3-2c2c3f27a2cc');\n",
              "          const dataTable =\n",
              "            await google.colab.kernel.invokeFunction('convertToInteractive',\n",
              "                                                     [key], {});\n",
              "          if (!dataTable) return;\n",
              "\n",
              "          const docLinkHtml = 'Like what you see? Visit the ' +\n",
              "            '<a target=\"_blank\" href=https://colab.research.google.com/notebooks/data_table.ipynb>data table notebook</a>'\n",
              "            + ' to learn more about interactive tables.';\n",
              "          element.innerHTML = '';\n",
              "          dataTable['output_type'] = 'display_data';\n",
              "          await google.colab.output.renderOutput(dataTable, element);\n",
              "          const docLink = document.createElement('div');\n",
              "          docLink.innerHTML = docLinkHtml;\n",
              "          element.appendChild(docLink);\n",
              "        }\n",
              "      </script>\n",
              "    </div>\n",
              "  </div>\n",
              "  "
            ]
          },
          "metadata": {},
          "execution_count": 11
        }
      ],
      "source": [
        "dataset_df = pd.read_csv(DATASET_FILE)\n",
        "dataset_df"
      ]
    },
    {
      "cell_type": "markdown",
      "id": "571968eb",
      "metadata": {
        "id": "571968eb"
      },
      "source": [
        "## 1.1 Répartition des avis clients en fonction du nombre d'étoiles"
      ]
    },
    {
      "cell_type": "code",
      "execution_count": null,
      "id": "74de0e4b",
      "metadata": {
        "colab": {
          "base_uri": "https://localhost:8080/"
        },
        "id": "74de0e4b",
        "outputId": "35ca3641-f4b9-4d63-984a-9470ffc0b63b"
      },
      "outputs": [
        {
          "output_type": "execute_result",
          "data": {
            "text/plain": [
              "0        1\n",
              "1        1\n",
              "2        1\n",
              "3        1\n",
              "4        1\n",
              "        ..\n",
              "24995    5\n",
              "24996    5\n",
              "24997    5\n",
              "24998    5\n",
              "24999    5\n",
              "Name: stars, Length: 25000, dtype: int64"
            ]
          },
          "metadata": {},
          "execution_count": 6
        }
      ],
      "source": [
        "stars_columns = dataset_df.stars\n",
        "stars_columns"
      ]
    },
    {
      "cell_type": "code",
      "execution_count": null,
      "id": "ed00d44f",
      "metadata": {
        "colab": {
          "base_uri": "https://localhost:8080/"
        },
        "id": "ed00d44f",
        "outputId": "e33dcbeb-3c77-459c-892f-9900f92db31b"
      },
      "outputs": [
        {
          "output_type": "execute_result",
          "data": {
            "text/plain": [
              "1    5000\n",
              "2    5000\n",
              "3    5000\n",
              "4    5000\n",
              "5    5000\n",
              "Name: stars, dtype: int64"
            ]
          },
          "metadata": {},
          "execution_count": 7
        }
      ],
      "source": [
        "stars_columns.value_counts()"
      ]
    },
    {
      "cell_type": "code",
      "execution_count": null,
      "id": "8b36566c",
      "metadata": {
        "id": "8b36566c",
        "outputId": "3e180e7f-7aac-47d8-c2d1-b5688e8faa85"
      },
      "outputs": [
        {
          "data": {
            "text/plain": [
              "<matplotlib.axes._subplots.AxesSubplot at 0x7fc30d468518>"
            ]
          },
          "execution_count": 6,
          "metadata": {},
          "output_type": "execute_result"
        },
        {
          "data": {
            "image/png": "[encoded data removed]",
            "text/plain": [
              "<Figure size 720x576 with 1 Axes>"
            ]
          },
          "metadata": {},
          "output_type": "display_data"
        }
      ],
      "source": [
        "stars_columns.value_counts().plot(kind=\"pie\", figsize=(10, 8), autopct=\"%1.1f%%\", shadow=True)"
      ]
    },
    {
      "cell_type": "markdown",
      "id": "3cd5d757",
      "metadata": {
        "id": "3cd5d757"
      },
      "source": [
        "## 1.2 Distribution de la longueur (nombre de mots) des avis clients"
      ]
    },
    {
      "cell_type": "code",
      "execution_count": null,
      "id": "6b627641",
      "metadata": {
        "colab": {
          "base_uri": "https://localhost:8080/",
          "height": 424
        },
        "id": "6b627641",
        "outputId": "28a84936-22fc-4012-d8a0-2d02f26725c7"
      },
      "outputs": [
        {
          "output_type": "execute_result",
          "data": {
            "text/plain": [
              "                                                    text  stars  length\n",
              "0      I've only had food from here once and it wasn'...      1      68\n",
              "1      I will never return here again.  Ever.  I was ...      1      87\n",
              "2      I wish my experience was great as others. I di...      1     166\n",
              "3      Are the rosemary grapefruit scones supposed to...      1      81\n",
              "4      Our takeout order was half wrong. Food was mis...      1      32\n",
              "...                                                  ...    ...     ...\n",
              "24995  I was a loyal fan of Aroy before the ownership...      5      75\n",
              "24996  Stopped here for a bite while wandering around...      5      55\n",
              "24997  A quiet place with excellent food, great music...      5      32\n",
              "24998  Super delicious food. Awesome vibe. I suffered...      5      41\n",
              "24999  I have a lot of dietary restrictions and this ...      5      87\n",
              "\n",
              "[25000 rows x 3 columns]"
            ],
            "text/html": [
              "\n",
              "  <div id=\"df-9e5dff50-06a0-4b11-a559-13c8e2cf682b\">\n",
              "    <div class=\"colab-df-container\">\n",
              "      <div>\n",
              "<style scoped>\n",
              "    .dataframe tbody tr th:only-of-type {\n",
              "        vertical-align: middle;\n",
              "    }\n",
              "\n",
              "    .dataframe tbody tr th {\n",
              "        vertical-align: top;\n",
              "    }\n",
              "\n",
              "    .dataframe thead th {\n",
              "        text-align: right;\n",
              "    }\n",
              "</style>\n",
              "<table border=\"1\" class=\"dataframe\">\n",
              "  <thead>\n",
              "    <tr style=\"text-align: right;\">\n",
              "      <th></th>\n",
              "      <th>text</th>\n",
              "      <th>stars</th>\n",
              "      <th>length</th>\n",
              "    </tr>\n",
              "  </thead>\n",
              "  <tbody>\n",
              "    <tr>\n",
              "      <th>0</th>\n",
              "      <td>I've only had food from here once and it wasn'...</td>\n",
              "      <td>1</td>\n",
              "      <td>68</td>\n",
              "    </tr>\n",
              "    <tr>\n",
              "      <th>1</th>\n",
              "      <td>I will never return here again.  Ever.  I was ...</td>\n",
              "      <td>1</td>\n",
              "      <td>87</td>\n",
              "    </tr>\n",
              "    <tr>\n",
              "      <th>2</th>\n",
              "      <td>I wish my experience was great as others. I di...</td>\n",
              "      <td>1</td>\n",
              "      <td>166</td>\n",
              "    </tr>\n",
              "    <tr>\n",
              "      <th>3</th>\n",
              "      <td>Are the rosemary grapefruit scones supposed to...</td>\n",
              "      <td>1</td>\n",
              "      <td>81</td>\n",
              "    </tr>\n",
              "    <tr>\n",
              "      <th>4</th>\n",
              "      <td>Our takeout order was half wrong. Food was mis...</td>\n",
              "      <td>1</td>\n",
              "      <td>32</td>\n",
              "    </tr>\n",
              "    <tr>\n",
              "      <th>...</th>\n",
              "      <td>...</td>\n",
              "      <td>...</td>\n",
              "      <td>...</td>\n",
              "    </tr>\n",
              "    <tr>\n",
              "      <th>24995</th>\n",
              "      <td>I was a loyal fan of Aroy before the ownership...</td>\n",
              "      <td>5</td>\n",
              "      <td>75</td>\n",
              "    </tr>\n",
              "    <tr>\n",
              "      <th>24996</th>\n",
              "      <td>Stopped here for a bite while wandering around...</td>\n",
              "      <td>5</td>\n",
              "      <td>55</td>\n",
              "    </tr>\n",
              "    <tr>\n",
              "      <th>24997</th>\n",
              "      <td>A quiet place with excellent food, great music...</td>\n",
              "      <td>5</td>\n",
              "      <td>32</td>\n",
              "    </tr>\n",
              "    <tr>\n",
              "      <th>24998</th>\n",
              "      <td>Super delicious food. Awesome vibe. I suffered...</td>\n",
              "      <td>5</td>\n",
              "      <td>41</td>\n",
              "    </tr>\n",
              "    <tr>\n",
              "      <th>24999</th>\n",
              "      <td>I have a lot of dietary restrictions and this ...</td>\n",
              "      <td>5</td>\n",
              "      <td>87</td>\n",
              "    </tr>\n",
              "  </tbody>\n",
              "</table>\n",
              "<p>25000 rows × 3 columns</p>\n",
              "</div>\n",
              "      <button class=\"colab-df-convert\" onclick=\"convertToInteractive('df-9e5dff50-06a0-4b11-a559-13c8e2cf682b')\"\n",
              "              title=\"Convert this dataframe to an interactive table.\"\n",
              "              style=\"display:none;\">\n",
              "        \n",
              "  <svg xmlns=\"http://www.w3.org/2000/svg\" height=\"24px\"viewBox=\"0 0 24 24\"\n",
              "       width=\"24px\">\n",
              "    <path d=\"M0 0h24v24H0V0z\" fill=\"none\"/>\n",
              "    <path d=\"M18.56 5.44l.94 2.06.94-2.06 2.06-.94-2.06-.94-.94-2.06-.94 2.06-2.06.94zm-11 1L8.5 8.5l.94-2.06 2.06-.94-2.06-.94L8.5 2.5l-.94 2.06-2.06.94zm10 10l.94 2.06.94-2.06 2.06-.94-2.06-.94-.94-2.06-.94 2.06-2.06.94z\"/><path d=\"M17.41 7.96l-1.37-1.37c-.4-.4-.92-.59-1.43-.59-.52 0-1.04.2-1.43.59L10.3 9.45l-7.72 7.72c-.78.78-.78 2.05 0 2.83L4 21.41c.39.39.9.59 1.41.59.51 0 1.02-.2 1.41-.59l7.78-7.78 2.81-2.81c.8-.78.8-2.07 0-2.86zM5.41 20L4 18.59l7.72-7.72 1.47 1.35L5.41 20z\"/>\n",
              "  </svg>\n",
              "      </button>\n",
              "      \n",
              "  <style>\n",
              "    .colab-df-container {\n",
              "      display:flex;\n",
              "      flex-wrap:wrap;\n",
              "      gap: 12px;\n",
              "    }\n",
              "\n",
              "    .colab-df-convert {\n",
              "      background-color: #E8F0FE;\n",
              "      border: none;\n",
              "      border-radius: 50%;\n",
              "      cursor: pointer;\n",
              "      display: none;\n",
              "      fill: #1967D2;\n",
              "      height: 32px;\n",
              "      padding: 0 0 0 0;\n",
              "      width: 32px;\n",
              "    }\n",
              "\n",
              "    .colab-df-convert:hover {\n",
              "      background-color: #E2EBFA;\n",
              "      box-shadow: 0px 1px 2px rgba(60, 64, 67, 0.3), 0px 1px 3px 1px rgba(60, 64, 67, 0.15);\n",
              "      fill: #174EA6;\n",
              "    }\n",
              "\n",
              "    [theme=dark] .colab-df-convert {\n",
              "      background-color: #3B4455;\n",
              "      fill: #D2E3FC;\n",
              "    }\n",
              "\n",
              "    [theme=dark] .colab-df-convert:hover {\n",
              "      background-color: #434B5C;\n",
              "      box-shadow: 0px 1px 3px 1px rgba(0, 0, 0, 0.15);\n",
              "      filter: drop-shadow(0px 1px 2px rgba(0, 0, 0, 0.3));\n",
              "      fill: #FFFFFF;\n",
              "    }\n",
              "  </style>\n",
              "\n",
              "      <script>\n",
              "        const buttonEl =\n",
              "          document.querySelector('#df-9e5dff50-06a0-4b11-a559-13c8e2cf682b button.colab-df-convert');\n",
              "        buttonEl.style.display =\n",
              "          google.colab.kernel.accessAllowed ? 'block' : 'none';\n",
              "\n",
              "        async function convertToInteractive(key) {\n",
              "          const element = document.querySelector('#df-9e5dff50-06a0-4b11-a559-13c8e2cf682b');\n",
              "          const dataTable =\n",
              "            await google.colab.kernel.invokeFunction('convertToInteractive',\n",
              "                                                     [key], {});\n",
              "          if (!dataTable) return;\n",
              "\n",
              "          const docLinkHtml = 'Like what you see? Visit the ' +\n",
              "            '<a target=\"_blank\" href=https://colab.research.google.com/notebooks/data_table.ipynb>data table notebook</a>'\n",
              "            + ' to learn more about interactive tables.';\n",
              "          element.innerHTML = '';\n",
              "          dataTable['output_type'] = 'display_data';\n",
              "          await google.colab.output.renderOutput(dataTable, element);\n",
              "          const docLink = document.createElement('div');\n",
              "          docLink.innerHTML = docLinkHtml;\n",
              "          element.appendChild(docLink);\n",
              "        }\n",
              "      </script>\n",
              "    </div>\n",
              "  </div>\n",
              "  "
            ]
          },
          "metadata": {},
          "execution_count": 8
        }
      ],
      "source": [
        "dataset_df[\"length\"] = dataset_df[\"text\"].apply(lambda x: len(x.split()))\n",
        "dataset_df"
      ]
    },
    {
      "cell_type": "code",
      "execution_count": null,
      "id": "5a9d678e",
      "metadata": {
        "id": "5a9d678e",
        "outputId": "82f0986c-bc61-43c7-be8f-36fe57475898"
      },
      "outputs": [
        {
          "data": {
            "text/plain": [
              "<matplotlib.axes._subplots.AxesSubplot at 0x7fc2418a47b8>"
            ]
          },
          "execution_count": 8,
          "metadata": {},
          "output_type": "execute_result"
        },
        {
          "data": {
            "image/png": "[encoded data removed]",
            "text/plain": [
              "<Figure size 720x576 with 1 Axes>"
            ]
          },
          "metadata": {
            "needs_background": "light"
          },
          "output_type": "display_data"
        }
      ],
      "source": [
        "dataset_df.length.plot(kind=\"hist\", bins=100, figsize=(10, 8))"
      ]
    },
    {
      "cell_type": "markdown",
      "id": "7489e5f5",
      "metadata": {
        "id": "7489e5f5"
      },
      "source": [
        "## 1.3 Distribution de la longueur des avis clients en fonction du nombre d'étoiles des avis"
      ]
    },
    {
      "cell_type": "code",
      "execution_count": null,
      "id": "54106af6",
      "metadata": {
        "id": "54106af6",
        "outputId": "5072027d-000a-4a86-cd7a-44c2dbc68901"
      },
      "outputs": [
        {
          "data": {
            "text/plain": [
              "Text(0.5, 1.0, \"Répartition des longueurs des avis en fonction du nombre d'étoiles\")"
            ]
          },
          "execution_count": 9,
          "metadata": {},
          "output_type": "execute_result"
        },
        {
          "data": {
            "image/png": "[encoded data removed]",
            "text/plain": [
              "<Figure size 720x576 with 1 Axes>"
            ]
          },
          "metadata": {
            "needs_background": "light"
          },
          "output_type": "display_data"
        }
      ],
      "source": [
        "plt.figure(figsize=(10, 8))\n",
        "\n",
        "ax = sns.boxplot(x=dataset_df.stars ,\n",
        "            y=dataset_df.length,\n",
        "            showmeans=True,\n",
        "            )\n",
        "ax.set_ylim(0, 400)\n",
        "\n",
        "ax.set_title(\"Répartition des longueurs des avis en fonction du nombre d'étoiles\")"
      ]
    },
    {
      "cell_type": "markdown",
      "id": "86a0a4f4",
      "metadata": {
        "id": "86a0a4f4"
      },
      "source": [
        "# 2. Pré-traitement du jeu de données"
      ]
    },
    {
      "cell_type": "code",
      "source": [
        "import re\n",
        "keywordSet = {\"don't\",\"never\", \"nothing\", \"nowhere\", \"noone\", \"none\", \"not\",\n",
        "                  \"hasn't\",\"hadn't\",\"can't\",\"couldn't\",\"shouldn't\",\"won't\",\n",
        "                  \"wouldn't\",\"don't\",\"doesn't\",\"didn't\",\"isn't\",\"aren't\",\"ain't\"}\n",
        "\n",
        "def negatif_tokens(current_wordset):\n",
        "  j=0\n",
        "  while j<len(current_wordset)-1:\n",
        "    if current_wordset[j] in keywordSet:\n",
        "      current_wordset[j]= 'not_'+current_wordset[j+1]\n",
        "      current_wordset.pop(j+1)\n",
        "    j+=1\n",
        "  return current_wordset"
      ],
      "metadata": {
        "id": "nZEATyW5zYej"
      },
      "id": "nZEATyW5zYej",
      "execution_count": 63,
      "outputs": []
    },
    {
      "cell_type": "code",
      "source": [
        "#stop words\n",
        "import spacy\n",
        "import gensim\n",
        "\n",
        "\n",
        "def remove_stopwords(text_tokens):\n",
        "\ttext_without_sw = []\n",
        "\tfor word in text_tokens:\n",
        "\t\t# checking word is stopword or not\n",
        "\t\tif word not in all_stopwords:\n",
        "\t\t\ttext_without_sw.append(word)\n",
        "\t \n",
        "\treturn text_without_sw\n",
        "\n",
        "nltk.download('stopwords')\n",
        "# list of stopwords from nltk\n",
        "stopwords_nltk = list(stopwords.words('english'))\n",
        "sp = spacy.load('en_core_web_sm')\n",
        "# list of stopwords from spacy\n",
        "stopwords_spacy = list(sp.Defaults.stop_words)\n",
        "# list of stopwords from gensim\n",
        "stopwords_gensim = list(gensim.parsing.preprocessing.STOPWORDS)\n",
        "\n",
        "# unique stopwords from all stopwords\n",
        "all_stopwords = []\n",
        "all_stopwords.extend(stopwords_nltk)\n",
        "all_stopwords.extend(stopwords_spacy)\n",
        "all_stopwords.extend(stopwords_gensim)\n",
        "# all unique stop words\n",
        "all_stopwords = list(set(all_stopwords))\n"
      ],
      "metadata": {
        "colab": {
          "base_uri": "https://localhost:8080/"
        },
        "id": "W7oH2ARxki-K",
        "outputId": "688ecfd2-cd5e-4811-855f-cd35c914eed8"
      },
      "id": "W7oH2ARxki-K",
      "execution_count": 67,
      "outputs": [
        {
          "output_type": "stream",
          "name": "stderr",
          "text": [
            "[nltk_data] Downloading package stopwords to /root/nltk_data...\n",
            "[nltk_data]   Package stopwords is already up-to-date!\n"
          ]
        }
      ]
    },
    {
      "cell_type": "code",
      "source": [
        "from collections import Counter\n",
        "def remove_frequent(tokens, number_to_remove):\n",
        "  counted = Counter(tokens)\n",
        "  most_occur= counted.most_common(number_to_remove)\n",
        "  for tupl in most_occur:\n",
        "    counted.pop(tupl[0])\n",
        "  return counted.keys()"
      ],
      "metadata": {
        "id": "_fk6NK97s7iO"
      },
      "id": "_fk6NK97s7iO",
      "execution_count": 78,
      "outputs": []
    },
    {
      "cell_type": "code",
      "source": [
        "nltk.download('wordnet')\n",
        "nltk.download('omw-1.4')\n",
        "from nltk.stem.wordnet import WordNetLemmatizer\n",
        "from nltk.corpus import wordnet\n",
        "from nltk.tag import StanfordTagger\n",
        "from nltk.corpus.reader.wordnet import VERB, NOUN, ADJ, ADV\n",
        "dict_pos_map = {\n",
        "    # Look for NN in the POS tag because all nouns begin with NN\n",
        "    'NN': NOUN,\n",
        "    # Look for VB in the POS tag because all nouns begin with VB\n",
        "    'VB':VERB,\n",
        "    # Look for JJ in the POS tag because all nouns begin with JJ\n",
        "    'JJ' : ADJ,\n",
        "    # Look for RB in the POS tag because all nouns begin with RB\n",
        "    'RB':ADV  \n",
        "}\n",
        "lm = WordNetLemmatizer()\n",
        "def lemmatize_with_pos_text(tokens):\n",
        "  normalized_tokens = []\n",
        "  for tuples in nltk.pos_tag(tokens):\n",
        "    temp = tuples[0]\n",
        "    if tuples[1] == \"NNP\" or tuples[1] == \"NNPS\":\n",
        "      continue\n",
        "    if tuples[1][:2] in dict_pos_map.keys():\n",
        "      temp = lm.lemmatize(tuples[0].lower(), pos=dict_pos_map[tuples[1][:2]])\n",
        "    normalized_tokens.append(temp)\n",
        "  return normalized_tokens"
      ],
      "metadata": {
        "colab": {
          "base_uri": "https://localhost:8080/"
        },
        "id": "ofrb1ePI8les",
        "outputId": "5cecb600-9844-4f85-b083-45246f26eab0"
      },
      "id": "ofrb1ePI8les",
      "execution_count": 60,
      "outputs": [
        {
          "output_type": "stream",
          "name": "stderr",
          "text": [
            "[nltk_data] Downloading package wordnet to /root/nltk_data...\n",
            "[nltk_data]   Package wordnet is already up-to-date!\n",
            "[nltk_data] Downloading package omw-1.4 to /root/nltk_data...\n",
            "[nltk_data]   Package omw-1.4 is already up-to-date!\n"
          ]
        }
      ]
    },
    {
      "cell_type": "code",
      "source": [
        "nltk.download('punkt')\n",
        "import string\n",
        "from nltk import word_tokenize, punkt\n",
        "def tokenize_text(text):\n",
        "  no_punct_seq_tokens = [token for token in word_tokenize(text) if token not in string.punctuation]\n",
        "  return no_punct_seq_tokens"
      ],
      "metadata": {
        "colab": {
          "base_uri": "https://localhost:8080/"
        },
        "id": "G9S8Hmrkt8T0",
        "outputId": "1437b177-0e9b-42f1-bfb0-d3bf418ec4ee"
      },
      "id": "G9S8Hmrkt8T0",
      "execution_count": 62,
      "outputs": [
        {
          "output_type": "stream",
          "name": "stderr",
          "text": [
            "[nltk_data] Downloading package punkt to /root/nltk_data...\n",
            "[nltk_data]   Package punkt is already up-to-date!\n"
          ]
        }
      ]
    },
    {
      "cell_type": "code",
      "source": [
        "def preprocess_text(text):\n",
        "\n",
        "  #contaction expasion\n",
        "  expanded_text=contractions.fix(text)\n",
        "\n",
        "  #tokenization\n",
        "  tokens= tokenize_text(expanded_text)\n",
        "\n",
        "  #lemmatization with pos taging and to lowercase\n",
        "  tokens=lemmatize_with_pos_text(tokens)\n",
        "\n",
        "  #negatif tokens\n",
        "  tokens=negatif_tokens(tokens)\n",
        "\n",
        "  #stopwords removal\n",
        "  tokens=remove_stopwords(tokens)\n",
        "\n",
        "  #most frequent words removal\n",
        "  tokens=remove_frequent(tokens,1)\n",
        "\n",
        "  return ' '.join(tokens)\n"
      ],
      "metadata": {
        "id": "02JQgD-lrwi7"
      },
      "id": "02JQgD-lrwi7",
      "execution_count": 89,
      "outputs": []
    },
    {
      "cell_type": "code",
      "source": [
        "dataset_df['text_cleaned']=dataset_df['text'].apply(preprocess_text)"
      ],
      "metadata": {
        "id": "ynAGcn19Sfpv"
      },
      "id": "ynAGcn19Sfpv",
      "execution_count": 91,
      "outputs": []
    },
    {
      "cell_type": "code",
      "source": [
        "#Classification with logistic regression\n",
        "from sklearn.linear_model import LogisticRegression\n",
        "from sklearn.feature_extraction.text import TfidfVectorizer\n",
        "from sklearn.model_selection import train_test_split\n",
        "\n",
        "y = dataset_df['stars']\n",
        "X = dataset_df['text_cleaned']\n",
        "X_train,X_test,y_train,y_test = train_test_split(X,y,test_size = 0.2)\n",
        "\n",
        "vectorizer = TfidfVectorizer()\n",
        "X_train = vectorizer.fit_transform(X_train)\n",
        "\n",
        "\n",
        "clf = LogisticRegression(max_iter=200)\n",
        "clf.fit(X_train, y_train)"
      ],
      "metadata": {
        "colab": {
          "base_uri": "https://localhost:8080/"
        },
        "id": "pfuxYTPhR0_p",
        "outputId": "dddb8c3e-da23-41f2-cc67-7f8e90ec5dda"
      },
      "id": "pfuxYTPhR0_p",
      "execution_count": 94,
      "outputs": [
        {
          "output_type": "execute_result",
          "data": {
            "text/plain": [
              "LogisticRegression(max_iter=200)"
            ]
          },
          "metadata": {},
          "execution_count": 94
        }
      ]
    },
    {
      "cell_type": "code",
      "source": [
        "#remove positif words from negatif reviews\n",
        "import pandas as pd\n",
        "important_tokens_4 = pd.DataFrame(\n",
        "    data=clf.coef_[3],\n",
        "    index=vectorizer.get_feature_names(),\n",
        "    columns=['coefficient']\n",
        ").sort_values(by=['coefficient'])\n",
        "\n",
        "important_tokens_5 = pd.DataFrame(\n",
        "    data=clf.coef_[4],\n",
        "    index=vectorizer.get_feature_names(),\n",
        "    columns=['coefficient']\n",
        ").sort_values(by=['coefficient'])\n",
        "\n",
        "mots_positifs = []\n",
        "important_tokens_4 = important_tokens_4[important_tokens_4['coefficient']>1]\n",
        "important_tokens_5 = important_tokens_5[important_tokens_5['coefficient']>1]\n",
        "mots_positifs.append(list(important_tokens_4.index))\n",
        "mots_positifs.append(list(important_tokens_5.index))\n",
        "\n",
        "df_temp = dataset_df[dataset_df['stars'].isin([1, 2])]\n",
        "for i in range(0,len(df_temp)):\n",
        "  text = dataset_df.loc[i,'text_cleaned']\n",
        "  text = text.split()\n",
        "  for j in text:\n",
        "    if j in mots_positifs: text.remove(j)\n",
        "  dataset_df.loc[i,'text_cleaned'] = ' '.join(text)"
      ],
      "metadata": {
        "id": "kRMa4JAuOQgO"
      },
      "id": "kRMa4JAuOQgO",
      "execution_count": 96,
      "outputs": []
    },
    {
      "cell_type": "code",
      "source": [
        "dataset_df.to_csv(\"output.csv\")"
      ],
      "metadata": {
        "id": "bEfFYgi_Y04h"
      },
      "id": "bEfFYgi_Y04h",
      "execution_count": 97,
      "outputs": []
    }
  ],
  "metadata": {
    "kernelspec": {
      "display_name": "Python 3 (ipykernel)",
      "language": "python",
      "name": "python3"
    },
    "language_info": {
      "codemirror_mode": {
        "name": "ipython",
        "version": 3
      },
      "file_extension": ".py",
      "mimetype": "text/x-python",
      "name": "python",
      "nbconvert_exporter": "python",
      "pygments_lexer": "ipython3",
      "version": "3.7.2"
    },
    "colab": {
      "provenance": [],
      "collapsed_sections": []
    }
  },
  "nbformat": 4,
  "nbformat_minor": 5
}